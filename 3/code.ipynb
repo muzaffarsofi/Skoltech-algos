{
 "cells": [
  {
   "cell_type": "code",
   "execution_count": 1,
   "metadata": {},
   "outputs": [],
   "source": [
    "class Node():\n",
    "    \n",
    "    def __init__(self, value=None, left=None, right=None, assoc_struct=None, *args, **kwargs):\n",
    "        assert isinstance(left, Node) or (left is None), \"wrong type of left Node\"\n",
    "        assert isinstance(right, Node) or (right is None), \"wrong type of right Node\"\n",
    "        assert isinstance(value, tuple) or (value is None) or isinstance(value, list), \"value type error\"\n",
    "        \n",
    "        self.value = value\n",
    "        self.left = left\n",
    "        self.right = right\n",
    "        self.assoc_struct = assoc_struct\n",
    "        \n",
    "    def set_value(self, value):\n",
    "        assert isinstance(value, tuple) or (value is None) or isinstance(value, list), \"value type error\"\n",
    "        self.value = value\n",
    "    \n",
    "    def set_left(self, left):\n",
    "        assert isinstance(left, Node) or (left is None), \"wrong type of left Node\"\n",
    "        self.left = left\n",
    "    \n",
    "    def set_right(self, right):\n",
    "        assert isinstance(right, Node) or (right is None), \"wrong type of right Node\"\n",
    "        self.right = right\n",
    "        \n",
    "    def set_assoc_struct(self, assoc_struct):\n",
    "        assert isinstance(assoc_struct, Range1Dtree) or (assoc_struct is None), \"assoc struct only Range1Dtree allowed or None\"\n",
    "        \n",
    "        self.assoc_struct = assoc_struct\n",
    "\n",
    "    @property\n",
    "    def isLeaf(self):\n",
    "        if (self.left is None) and (self.right is None):\n",
    "            return True\n",
    "        else:\n",
    "            return False\n",
    "        \n",
    "class Range1Dtree():\n",
    "    \n",
    "    def _build1D(self, points):\n",
    "        if len(points) <= 0:\n",
    "            return None\n",
    "\n",
    "        m_index = int(len(points)/2)\n",
    "        node = Node()\n",
    "        node.set_value(points[m_index])\n",
    "        node.set_left(self._build1D(points[:m_index]))\n",
    "        node.set_right(self._build1D(points[m_index+1:]))\n",
    "        return node\n",
    "        \n",
    "    \n",
    "    def __init__(self, points, which_dimension=0, *args, **kwargs):\n",
    "        self.which_dimension = which_dimension\n",
    "        sorted_p = sorted(points, key=lambda x: x[self.which_dimension])\n",
    "        \n",
    "        self.root_node  = self._build1D(sorted_p)\n",
    "    \n",
    "        \n",
    "    def query(self, node, r):\n",
    "        res = []\n",
    "        if not node:\n",
    "            return res\n",
    "        \n",
    "        if (r[0] <= node.value[self.which_dimension]):\n",
    "            res += self.query(node.left, r)\n",
    "            \n",
    "        if (node.value[self.which_dimension] <= r[1]):\n",
    "            res += self.query(node.right, r)\n",
    "        \n",
    "        if (r[0] <= node.value[self.which_dimension]) and (node.value[self.which_dimension] <= r[1]):\n",
    "            res += [node.value]\n",
    "        \n",
    "        return res\n",
    "        "
   ]
  },
  {
   "cell_type": "code",
   "execution_count": 11,
   "metadata": {},
   "outputs": [],
   "source": [
    "class Range2Dtree():\n",
    "    \n",
    "    def _build2D(self, points):\n",
    "        # Build a bb-search tree T_ay on the set P_in over y-coordinates. Store points in the leaves.\n",
    "        bbTay = Range1Dtree(points, which_dimension=self.which_dimension+1)\n",
    "        if len(points) == 1:\n",
    "            return Node(points[0], assoc_struct=bbTay)\n",
    "        else:\n",
    "            sorted_p = sorted(points, key=lambda x: x[self.which_dimension])\n",
    "            m_index = int(len(sorted_p)/2)\n",
    "            left, right = sorted_p[:m_index], sorted_p[m_index:]\n",
    "            \n",
    "            node_v = Node()\n",
    "            node_v.set_left(self._build2D(left))\n",
    "            node_v.set_right(self._build2D(right))\n",
    "            node_v.set_value(sorted_p[m_index])\n",
    "            node_v.set_assoc_struct(bbTay)\n",
    "            \n",
    "            return node_v\n",
    "        \n",
    "    def __init__(self, points, which_dimension=0, *args, **kwargs):\n",
    "        self.which_dimension = which_dimension\n",
    "        self.root_node = self._build2D(points)\n",
    "        \n",
    "\n",
    "    def getRange(self, node):\n",
    "        current_node = node\n",
    "        res = []\n",
    "        if current_node.isLeaf:\n",
    "            res+= [current_node.value]\n",
    "        if current_node.left:\n",
    "            res+= self.getRange(current_node.left)\n",
    "        if current_node.right:\n",
    "            res+= self.getRange(current_node.right)\n",
    "            \n",
    "        return res\n",
    "    \n",
    "        \n",
    "    def query(self, node, rx, ry):\n",
    "        # rx, ry - range in x, range in y\n",
    "        if node.isLeaf:\n",
    "            p = node.value\n",
    "            if ((p[self.which_dimension] >= rx[0]) and (p[self.which_dimension] <= rx[1])) and ((p[self.which_dimension+1] >= ry[0]) and (p[self.which_dimension+1] <= ry[1])):\n",
    "                return [p]\n",
    "            else:\n",
    "                return []\n",
    "        current_range_x = self.getRange(node)\n",
    "        if ((current_range_x[0][self.which_dimension] >= rx[0]) and (current_range_x[-1][self.which_dimension] <= rx[1])):\n",
    "            return node.assoc_struct.query(node.assoc_struct.root_node, ry)\n",
    "        else:\n",
    "            if (current_range_x[0][self.which_dimension] >= rx[0]) or (current_range_x[-1][self.which_dimension] <= rx[1]) or ((rx[1] <= current_range_x[-1][self.which_dimension]) and (rx[0] >= current_range_x[0][self.which_dimension])):\n",
    "                return self.query(node.left, rx, ry) + self.query(node.right, rx, ry)\n"
   ]
  },
  {
   "cell_type": "code",
   "execution_count": 13,
   "metadata": {},
   "outputs": [
    {
     "name": "stdout",
     "output_type": "stream",
     "text": [
      "26\n",
      "27\n"
     ]
    }
   ],
   "source": [
    "inp = open('input.txt', 'r')\n",
    "out = open('output.txt', 'w')\n",
    "\n",
    "min_num = int(inp.readline ())\n",
    "miners = []\n",
    "\n",
    "for i in range(min_num):\n",
    "    miner = inp.readline()\n",
    "    miner_list = [int(val) for val in miner.split()]\n",
    "    miners.append(miner_list)\n",
    "\n",
    "    \n",
    "tree = Range2Dtree(miners) \n",
    "\n",
    "que_num = int(inp.readline())\n",
    "queries = []\n",
    "\n",
    "for i in range(que_num):\n",
    "    rec_num = int(inp.readline())\n",
    "    \n",
    "    query = []\n",
    "\n",
    "    for j in range(rec_num):\n",
    "        rect = inp.readline()\n",
    "        rect_list = [int(val) for val in rect.split()]\n",
    "        query.append(rect_list)\n",
    "    \n",
    "    queries.append(query)\n",
    " \n",
    "with open('output.txt', 'w') as f:\n",
    "    for query in queries:\n",
    "        counted = set()\n",
    "        summary = 0\n",
    "        for rect in query:\n",
    "            rx = [min(rect[0], rect[2]), max(rect[0], rect[2])]\n",
    "            ry = [min(rect[1], rect[3]), max(rect[1], rect[3])]\n",
    "            query_res = tree.query(tree.root_node, rx, ry)\n",
    "            if query_res:\n",
    "                for elem in query_res:\n",
    "                    elem_t = tuple(elem)\n",
    "                    if elem_t not in counted:\n",
    "                        counted.add(tuple(elem))\n",
    "                        summary += elem[2]\n",
    "        print(summary)\n",
    "        f.write(str(summary)+'\\n')"
   ]
  },
  {
   "cell_type": "code",
   "execution_count": 502,
   "metadata": {},
   "outputs": [
    {
     "name": "stdout",
     "output_type": "stream",
     "text": [
      "[6 2 1]\n",
      " [2 3 7]\n",
      "  [1 4 5]\n",
      "  [ 3  4 10]\n",
      "   [2 3 7]\n",
      "   [ 3  4 10]\n",
      " [7 4 4]\n",
      "  [6 2 1]\n",
      "  [8 6 8]\n",
      "   [7 4 4]\n",
      "   [8 6 8]\n"
     ]
    }
   ],
   "source": [
    "printNode(tree.root_node)"
   ]
  },
  {
   "cell_type": "code",
   "execution_count": 418,
   "metadata": {},
   "outputs": [
    {
     "name": "stdout",
     "output_type": "stream",
     "text": [
      "None\n"
     ]
    }
   ],
   "source": [
    "print(tree.query(tree.root_node, rx, ry))"
   ]
  },
  {
   "cell_type": "code",
   "execution_count": 402,
   "metadata": {},
   "outputs": [
    {
     "data": {
      "text/plain": [
       "[[[1, 6, 4, 1], [1, 5, 8, 3]], [[3, 6, 7, 2], [1, 5, 8, 3]]]"
      ]
     },
     "execution_count": 402,
     "metadata": {},
     "output_type": "execute_result"
    }
   ],
   "source": [
    "queries"
   ]
  },
  {
   "cell_type": "code",
   "execution_count": 403,
   "metadata": {},
   "outputs": [
    {
     "data": {
      "text/plain": [
       "[[1, 4, 5], [2, 3, 7], [3, 4, 10], [6, 2, 1], [7, 4, 4], [8, 6, 8]]"
      ]
     },
     "execution_count": 403,
     "metadata": {},
     "output_type": "execute_result"
    }
   ],
   "source": [
    "miners"
   ]
  },
  {
   "cell_type": "code",
   "execution_count": 404,
   "metadata": {},
   "outputs": [],
   "source": [
    "tree = Range2Dtree(np.array(miners)) "
   ]
  },
  {
   "cell_type": "code",
   "execution_count": 405,
   "metadata": {},
   "outputs": [
    {
     "name": "stdout",
     "output_type": "stream",
     "text": [
      "  [[2 1]]\n",
      "   [[3 7]]\n",
      "   [[4 5]]\n",
      "  [[ 4 10]]\n",
      "   [[4 4]]\n",
      "   [[6 8]]\n"
     ]
    }
   ],
   "source": [
    "printLeaf(tree.root_node)"
   ]
  },
  {
   "cell_type": "code",
   "execution_count": null,
   "metadata": {},
   "outputs": [],
   "source": []
  },
  {
   "cell_type": "code",
   "execution_count": 359,
   "metadata": {},
   "outputs": [],
   "source": [
    "def printNode(node, space=0):\n",
    "    current_node = node\n",
    "    _ = ''.join([' ' for i in range(space)])\n",
    "    print(\"{}{}\".format(_, current_node.value))\n",
    "    if current_node.left:\n",
    "        printNode(current_node.left, space+1)\n",
    "    if current_node.right:\n",
    "        printNode(current_node.right, space+1)\n",
    "        \n",
    "def printLeaf(node, space=0):\n",
    "    current_node = node\n",
    "    _ = ''.join([' ' for i in range(space)])\n",
    "    if current_node.isLeaf:\n",
    "        print(\"{}{}\".format(_, current_node.value))\n",
    "    if current_node.left:\n",
    "        printLeaf(current_node.left, space+1)\n",
    "    if current_node.right:\n",
    "        printLeaf(current_node.right, space+1)"
   ]
  },
  {
   "cell_type": "code",
   "execution_count": 360,
   "metadata": {},
   "outputs": [],
   "source": [
    "tree = Range1Dtree(np.array([\n",
    "    [4,5],\n",
    "    [3,7],\n",
    "    [4,10],\n",
    "    [2,1],\n",
    "    [4,4],\n",
    "    [6,8]])) "
   ]
  },
  {
   "cell_type": "code",
   "execution_count": 361,
   "metadata": {},
   "outputs": [
    {
     "name": "stdout",
     "output_type": "stream",
     "text": [
      "[ 4 10]\n",
      " [3 7]\n",
      "  [2 1]\n",
      "  [4 5]\n",
      " [6 8]\n",
      "  [4 4]\n"
     ]
    }
   ],
   "source": [
    "printNode(tree.root_node)"
   ]
  },
  {
   "cell_type": "code",
   "execution_count": 362,
   "metadata": {},
   "outputs": [
    {
     "name": "stdout",
     "output_type": "stream",
     "text": [
      "  [2 1]\n",
      "  [4 5]\n",
      "  [4 4]\n"
     ]
    }
   ],
   "source": [
    "printLeaf(tree.root_node)"
   ]
  },
  {
   "cell_type": "code",
   "execution_count": 376,
   "metadata": {},
   "outputs": [],
   "source": [
    "tree = Range2Dtree(np.array([\n",
    "    [4,5],\n",
    "    [3,7],\n",
    "    [4,10],\n",
    "    [2,1],\n",
    "    [4,4],\n",
    "    [6,8]]), which_dimension=0) "
   ]
  },
  {
   "cell_type": "code",
   "execution_count": 377,
   "metadata": {},
   "outputs": [
    {
     "name": "stdout",
     "output_type": "stream",
     "text": [
      "[ 4 10]\n",
      " [3 7]\n",
      "  [2 1]\n",
      "  [4 5]\n",
      "   [3 7]\n",
      "   [4 5]\n",
      " [4 4]\n",
      "  [ 4 10]\n",
      "  [6 8]\n",
      "   [4 4]\n",
      "   [6 8]\n"
     ]
    }
   ],
   "source": [
    "printNode(tree.root_node)"
   ]
  },
  {
   "cell_type": "code",
   "execution_count": 378,
   "metadata": {},
   "outputs": [
    {
     "name": "stdout",
     "output_type": "stream",
     "text": [
      "  [2 1]\n",
      "   [3 7]\n",
      "   [4 5]\n",
      "  [ 4 10]\n",
      "   [4 4]\n",
      "   [6 8]\n"
     ]
    }
   ],
   "source": [
    "printLeaf(tree.root_node)"
   ]
  },
  {
   "cell_type": "code",
   "execution_count": 379,
   "metadata": {},
   "outputs": [
    {
     "data": {
      "text/plain": [
       "[array([2, 1]),\n",
       " array([3, 7]),\n",
       " array([4, 5]),\n",
       " array([ 4, 10]),\n",
       " array([4, 4]),\n",
       " array([6, 8])]"
      ]
     },
     "execution_count": 379,
     "metadata": {},
     "output_type": "execute_result"
    }
   ],
   "source": [
    "tree.getRange(tree.root_node)"
   ]
  },
  {
   "cell_type": "code",
   "execution_count": null,
   "metadata": {},
   "outputs": [],
   "source": []
  },
  {
   "cell_type": "code",
   "execution_count": 30,
   "metadata": {},
   "outputs": [
    {
     "data": {
      "text/plain": [
       "((1, 2), (3, 5, 4))"
      ]
     },
     "execution_count": 30,
     "metadata": {},
     "output_type": "execute_result"
    }
   ],
   "source": [
    "((1,2),(3,5,4))"
   ]
  },
  {
   "cell_type": "code",
   "execution_count": 24,
   "metadata": {},
   "outputs": [
    {
     "data": {
      "text/plain": [
       "(1, 2)"
      ]
     },
     "execution_count": 24,
     "metadata": {},
     "output_type": "execute_result"
    }
   ],
   "source": [
    "np.array([[2,3]]).shape"
   ]
  },
  {
   "cell_type": "code",
   "execution_count": 21,
   "metadata": {},
   "outputs": [],
   "source": [
    "from numpy import ndarray"
   ]
  },
  {
   "cell_type": "code",
   "execution_count": null,
   "metadata": {},
   "outputs": [],
   "source": []
  }
 ],
 "metadata": {
  "kernelspec": {
   "display_name": "Python 3",
   "language": "python",
   "name": "python3"
  },
  "language_info": {
   "codemirror_mode": {
    "name": "ipython",
    "version": 3
   },
   "file_extension": ".py",
   "mimetype": "text/x-python",
   "name": "python",
   "nbconvert_exporter": "python",
   "pygments_lexer": "ipython3",
   "version": "3.5.2"
  }
 },
 "nbformat": 4,
 "nbformat_minor": 2
}
