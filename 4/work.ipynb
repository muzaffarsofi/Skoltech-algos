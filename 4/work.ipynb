{
 "cells": [
  {
   "cell_type": "code",
   "execution_count": 32,
   "metadata": {},
   "outputs": [],
   "source": [
    "# based on https://alumni.media.mit.edu/~dlanman/courses/cs157/HW5.pdf\n",
    "inp = 'input.txt'\n",
    "out = 'output.txt'\n",
    "\n",
    "lines = []\n",
    "with open(inp, 'r') as f:\n",
    "    lines = f.readlines()\n",
    "    \n",
    "L = int(lines[0])\n",
    "words = lines[1].split(' ')\n",
    "\n",
    "wlens = []\n",
    "for elem in words:\n",
    "    wlens.append(len(elem))"
   ]
  },
  {
   "cell_type": "code",
   "execution_count": 33,
   "metadata": {},
   "outputs": [],
   "source": [
    "BIG_NUMBER = 9999999999999\n",
    "\n",
    "def slack_table(W,L):\n",
    "    n = len(W)\n",
    "    S = [[BIG_NUMBER for i in range(n)] for j in range(n)]\n",
    "    K = [0 for i in range(n)]\n",
    "    S[0][0] = W[0]\n",
    "    K[0] = n-1\n",
    "    for k in range(1,n):\n",
    "        S[0][k] = S[0][k-1] + W[k]\n",
    "    \n",
    "    for i in range(1,n):\n",
    "        k = i\n",
    "        S[i][k] = S[0][k] - S[0][i-1]\n",
    "        while (k <= n-2) and (L - S[i][k] - (k-i) > 0):\n",
    "            k += 1\n",
    "            S[i][k] = S[0][k] - S[0][i-1]\n",
    "        \n",
    "        K[i] = k\n",
    "    \n",
    "    for i in range(n):\n",
    "        for j in range(i, K[i]+1):\n",
    "            S[i][j] = L - S[i][j] - (j-i)\n",
    "            if S[i][j] < 0:\n",
    "                S[i][j] = BIG_NUMBER\n",
    "            else:\n",
    "                S[i][j] = S[i][j]**2\n",
    "    \n",
    "    return S"
   ]
  },
  {
   "cell_type": "code",
   "execution_count": 34,
   "metadata": {},
   "outputs": [],
   "source": [
    "def print_neatly(W,L):\n",
    "    n = len(W)\n",
    "    S = slack_table(W,L)\n",
    "    C = [0]\n",
    "    B = [-BIG_NUMBER for i in range(n)]\n",
    "    for i in range(n):\n",
    "        C.append(BIG_NUMBER)\n",
    "        k = i\n",
    "        T = C[k] + S[k][i]\n",
    "        if T < C[i+1]:\n",
    "            C[i+1] = T\n",
    "            B[i] = k\n",
    "        while (k>=1) and (T < BIG_NUMBER):\n",
    "            k -= 1\n",
    "            T = C[k] + S[k][i]\n",
    "            if T < C[i+1]:\n",
    "                C[i+1] = T\n",
    "                B[i] = k\n",
    "                \n",
    "    F = [B[n-1]]\n",
    "    i = B[n-1] - 1\n",
    "    while i >= 0:\n",
    "        F = [B[i]]+F\n",
    "        i = B[i] - 1\n",
    "    return F"
   ]
  },
  {
   "cell_type": "code",
   "execution_count": 35,
   "metadata": {},
   "outputs": [],
   "source": [
    "res = print_neatly(wlens,L)\n",
    "ssq = 0\n",
    "for i in range(1,len(res)):\n",
    "    word_sum = res[i] - res[i-1] - 1\n",
    "    for x in range(res[i-1],res[i]):\n",
    "        word_sum += wlens[x]\n",
    "\n",
    "    cost = L - word_sum\n",
    "    ssq += cost**2\n",
    "    \n",
    "end_sum = len(wlens) - 1 - res[-1]\n",
    "for x in range(res[-1], len(wlens)):\n",
    "    end_sum += wlens[x]\n",
    "\n",
    "ssq += (L-end_sum)**2\n",
    "    \n",
    "with open(out, 'w') as f:\n",
    "    f.writelines([str(ssq)+'\\n', str(len(res))])"
   ]
  },
  {
   "cell_type": "code",
   "execution_count": 36,
   "metadata": {},
   "outputs": [
    {
     "data": {
      "text/plain": [
       "6"
      ]
     },
     "execution_count": 36,
     "metadata": {},
     "output_type": "execute_result"
    }
   ],
   "source": [
    "[0, 7, 13, 21, 28, 35]\n",
    "15\n",
    "6"
   ]
  },
  {
   "cell_type": "code",
   "execution_count": null,
   "metadata": {},
   "outputs": [],
   "source": []
  }
 ],
 "metadata": {
  "kernelspec": {
   "display_name": "Python 3",
   "language": "python",
   "name": "python3"
  },
  "language_info": {
   "codemirror_mode": {
    "name": "ipython",
    "version": 3
   },
   "file_extension": ".py",
   "mimetype": "text/x-python",
   "name": "python",
   "nbconvert_exporter": "python",
   "pygments_lexer": "ipython3",
   "version": "3.5.2"
  }
 },
 "nbformat": 4,
 "nbformat_minor": 2
}
